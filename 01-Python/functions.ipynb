{
 "cells": [
  {
   "cell_type": "markdown",
   "id": "b7baf82f",
   "metadata": {},
   "source": [
    "# function with no input, no return"
   ]
  },
  {
   "cell_type": "code",
   "execution_count": 2,
   "id": "cea24798",
   "metadata": {},
   "outputs": [
    {
     "name": "stdout",
     "output_type": "stream",
     "text": [
      "Hello! This is Alex!\n"
     ]
    }
   ],
   "source": [
    "def greeting():\n",
    "    print (\"Hello! This is Alex!\")\n",
    "greeting()"
   ]
  },
  {
   "cell_type": "markdown",
   "id": "015089e5",
   "metadata": {},
   "source": [
    "# function with input, no return"
   ]
  },
  {
   "cell_type": "code",
   "execution_count": 10,
   "id": "1bb3f58d",
   "metadata": {},
   "outputs": [
    {
     "name": "stdout",
     "output_type": "stream",
     "text": [
      "num1 = 3\n",
      "7\n",
      "num1 = 10\n",
      "15\n",
      "num1 = 2\n",
      "5\n"
     ]
    }
   ],
   "source": [
    "def sum_num(num1, num2):\n",
    "    print (f\"num1 = {num1}\")#argumental parameter passing\n",
    "    result = num1 + num2\n",
    "    print (result)\n",
    "\n",
    "sum_num(3,4)#parameter(s)\n",
    "sum_num(10,5)\n",
    "#this is positional parameter passing\n",
    "sum_num(num2 = 3, num1 = 2)"
   ]
  },
  {
   "cell_type": "code",
   "execution_count": 14,
   "id": "6abbc2d0",
   "metadata": {},
   "outputs": [
    {
     "name": "stdout",
     "output_type": "stream",
     "text": [
      "break\n",
      "im slowing down\n",
      "accelerate\n",
      "im speeding up\n"
     ]
    }
   ],
   "source": [
    "def car(task):\n",
    "    print (task)\n",
    "\n",
    "car('break')\n",
    "print (\"im slowing down\")\n",
    "\n",
    "car('accelerate')\n",
    "print(\"im speeding up\")"
   ]
  },
  {
   "cell_type": "code",
   "execution_count": 21,
   "id": "4efdb959",
   "metadata": {},
   "outputs": [
    {
     "name": "stdout",
     "output_type": "stream",
     "text": [
      "im slowing down\n",
      "im speeding up\n",
      "I am not programmed to do this\n"
     ]
    }
   ],
   "source": [
    "def car(task):\n",
    "    if task=='break':\n",
    "        print (\"im slowing down\")\n",
    "    elif task=='accelerate':\n",
    "        print(\"im speeding up\")\n",
    "    else:\n",
    "        print(\"I am not programmed to do this\")\n",
    "\n",
    "car('break')\n",
    "car('accelerate')\n",
    "car('drift')"
   ]
  },
  {
   "cell_type": "markdown",
   "id": "5d97d9c9",
   "metadata": {},
   "source": [
    "# function with input and return"
   ]
  },
  {
   "cell_type": "code",
   "execution_count": 24,
   "id": "8c3b9dec",
   "metadata": {},
   "outputs": [
    {
     "name": "stdout",
     "output_type": "stream",
     "text": [
      "13\n"
     ]
    }
   ],
   "source": [
    "def another_sum(a,b):\n",
    "    result = a + b\n",
    "    return result\n",
    "res = another_sum(6,7)\n",
    "print (res)"
   ]
  }
 ],
 "metadata": {
  "kernelspec": {
   "display_name": "Python 3",
   "language": "python",
   "name": "python3"
  },
  "language_info": {
   "codemirror_mode": {
    "name": "ipython",
    "version": 3
   },
   "file_extension": ".py",
   "mimetype": "text/x-python",
   "name": "python",
   "nbconvert_exporter": "python",
   "pygments_lexer": "ipython3",
   "version": "3.13.6"
  }
 },
 "nbformat": 4,
 "nbformat_minor": 5
}
