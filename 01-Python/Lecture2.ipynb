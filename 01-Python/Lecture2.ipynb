{
 "cells": [
  {
   "cell_type": "markdown",
   "id": "efcb403a",
   "metadata": {},
   "source": [
    "# math operation"
   ]
  },
  {
   "cell_type": "code",
   "execution_count": 51,
   "id": "9dfeca1b",
   "metadata": {},
   "outputs": [
    {
     "data": {
      "text/plain": [
       "2"
      ]
     },
     "execution_count": 51,
     "metadata": {},
     "output_type": "execute_result"
    }
   ],
   "source": [
    "1+1\n"
   ]
  },
  {
   "cell_type": "code",
   "execution_count": 52,
   "id": "0773e011",
   "metadata": {},
   "outputs": [
    {
     "data": {
      "text/plain": [
       "3"
      ]
     },
     "execution_count": 52,
     "metadata": {},
     "output_type": "execute_result"
    }
   ],
   "source": [
    "1*3#integer"
   ]
  },
  {
   "cell_type": "code",
   "execution_count": 53,
   "id": "386bbcf5",
   "metadata": {},
   "outputs": [
    {
     "data": {
      "text/plain": [
       "2.0"
      ]
     },
     "execution_count": 53,
     "metadata": {},
     "output_type": "execute_result"
    }
   ],
   "source": [
    "4/2#division will always give you a float"
   ]
  },
  {
   "cell_type": "code",
   "execution_count": 54,
   "id": "380d9f9f",
   "metadata": {},
   "outputs": [
    {
     "data": {
      "text/plain": [
       "9"
      ]
     },
     "execution_count": 54,
     "metadata": {},
     "output_type": "execute_result"
    }
   ],
   "source": [
    "3**2#double star is power"
   ]
  },
  {
   "cell_type": "code",
   "execution_count": 55,
   "id": "8945c427",
   "metadata": {},
   "outputs": [
    {
     "data": {
      "text/plain": [
       "1"
      ]
     },
     "execution_count": 55,
     "metadata": {},
     "output_type": "execute_result"
    }
   ],
   "source": [
    "3%2#modulo means remainder"
   ]
  },
  {
   "cell_type": "code",
   "execution_count": 56,
   "id": "e6f5d0c0",
   "metadata": {},
   "outputs": [
    {
     "data": {
      "text/plain": [
       "1"
      ]
     },
     "execution_count": 56,
     "metadata": {},
     "output_type": "execute_result"
    }
   ],
   "source": [
    "7%2"
   ]
  },
  {
   "cell_type": "code",
   "execution_count": 57,
   "id": "a65abed6",
   "metadata": {},
   "outputs": [
    {
     "data": {
      "text/plain": [
       "4.0"
      ]
     },
     "execution_count": 57,
     "metadata": {},
     "output_type": "execute_result"
    }
   ],
   "source": [
    "(3+5)/(1*2)"
   ]
  },
  {
   "cell_type": "code",
   "execution_count": 58,
   "id": "f26d42a0",
   "metadata": {},
   "outputs": [
    {
     "name": "stdout",
     "output_type": "stream",
     "text": [
      "1+1\n"
     ]
    }
   ],
   "source": [
    "print(\"1+1\")#when doing math on coding no need for print. Everything in quotes will become print.\n"
   ]
  },
  {
   "cell_type": "markdown",
   "id": "f8b07e8e",
   "metadata": {},
   "source": [
    "# variable"
   ]
  },
  {
   "cell_type": "code",
   "execution_count": null,
   "id": "eef5f473",
   "metadata": {},
   "outputs": [],
   "source": [
    "#variable means grabbing space in computer \n",
    "# = is an update and they all work right to left"
   ]
  },
  {
   "cell_type": "code",
   "execution_count": null,
   "id": "0b717a16",
   "metadata": {},
   "outputs": [
    {
     "name": "stdout",
     "output_type": "stream",
     "text": [
      "13\n",
      "age\n"
     ]
    }
   ],
   "source": [
    "age = 13# this is telling the computer what age is. It works because a equal sign is used\n",
    "print(age)# they printed 13 because we told them to print the age where we previously told the computer that the age is 13\n",
    "print(\"age\")# this printed age because we set it as a text message"
   ]
  },
  {
   "cell_type": "code",
   "execution_count": 1,
   "id": "b5b4ef71",
   "metadata": {},
   "outputs": [
    {
     "name": "stdout",
     "output_type": "stream",
     "text": [
      "17\n"
     ]
    }
   ],
   "source": [
    "alex_age = 0\n",
    "william_age = 15\n",
    "alex_age = william_age+2\n",
    "print(alex_age)"
   ]
  },
  {
   "cell_type": "code",
   "execution_count": 2,
   "id": "52bdfe4c",
   "metadata": {},
   "outputs": [
    {
     "name": "stdout",
     "output_type": "stream",
     "text": [
      "10\n"
     ]
    }
   ],
   "source": [
    "age = 15\n",
    "age =16\n",
    "age = 10\n",
    "print(age)"
   ]
  },
  {
   "cell_type": "code",
   "execution_count": 7,
   "id": "719b2ee8",
   "metadata": {},
   "outputs": [
    {
     "name": "stdout",
     "output_type": "stream",
     "text": [
      "5\n"
     ]
    }
   ],
   "source": [
    "x = 2\n",
    "y = 3\n",
    "z = x+y\n",
    "print(z)"
   ]
  },
  {
   "cell_type": "code",
   "execution_count": 12,
   "id": "9903779a",
   "metadata": {},
   "outputs": [
    {
     "name": "stdout",
     "output_type": "stream",
     "text": [
      "10\n",
      "5.0\n"
     ]
    }
   ],
   "source": [
    "x = 5\n",
    "y = 10\n",
    "z = 2\n",
    "x = x*z\n",
    "y = y/z\n",
    "print(x)\n",
    "print(y)"
   ]
  },
  {
   "cell_type": "code",
   "execution_count": 13,
   "id": "fa80d825",
   "metadata": {},
   "outputs": [
    {
     "name": "stdout",
     "output_type": "stream",
     "text": [
      "10\n",
      "5\n"
     ]
    }
   ],
   "source": [
    "x = 5\n",
    "y = 10\n",
    "temp = x\n",
    "x = y \n",
    "y =temp\n",
    "print(x)\n",
    "print(y)"
   ]
  },
  {
   "cell_type": "code",
   "execution_count": null,
   "id": "38ea927b",
   "metadata": {},
   "outputs": [],
   "source": [
    "#explain swap code to each other. \n",
    "#BMI\n",
    "# weight = kg\n",
    "#height = meters\n"
   ]
  }
 ],
 "metadata": {
  "kernelspec": {
   "display_name": "Python 3",
   "language": "python",
   "name": "python3"
  },
  "language_info": {
   "codemirror_mode": {
    "name": "ipython",
    "version": 3
   },
   "file_extension": ".py",
   "mimetype": "text/x-python",
   "name": "python",
   "nbconvert_exporter": "python",
   "pygments_lexer": "ipython3",
   "version": "3.13.6"
  }
 },
 "nbformat": 4,
 "nbformat_minor": 5
}
