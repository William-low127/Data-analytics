{
 "cells": [
  {
   "cell_type": "code",
   "execution_count": 9,
   "id": "954546d2",
   "metadata": {},
   "outputs": [],
   "source": [
    "data= {\"a\":10,\n",
    "       \"b\":20,\n",
    "       \"c\":50,\n",
    "       \"d\":5,\n",
    "       }\n",
    "i=1\n",
    "if i in (data):\n",
    "    if (data)< 49:\n",
    "        pass\n",
    "    else:\n",
    "        temp=(data)\n",
    "        print(temp)\n",
    "for x in data.items():\n",
    "    # print(temp)\n",
    "    pass"
   ]
  },
  {
   "cell_type": "code",
   "execution_count": 9,
   "id": "fd86f412",
   "metadata": {},
   "outputs": [
    {
     "name": "stdout",
     "output_type": "stream",
     "text": [
      "50\n"
     ]
    }
   ],
   "source": [
    "data= {\"a\":10,\n",
    "       \"b\":20,\n",
    "       \"c\":50,\n",
    "       \"d\":5,\n",
    "       }\n",
    "\n",
    "max = -1\n",
    "\n",
    "for val in data.values():\n",
    "    if val > max:\n",
    "        max = val\n",
    "\n",
    "print(max)\n"
   ]
  },
  {
   "cell_type": "code",
   "execution_count": null,
   "id": "c1b79988",
   "metadata": {},
   "outputs": [
    {
     "name": "stdout",
     "output_type": "stream",
     "text": [
      "a 10\n",
      "b 20\n",
      "c 50\n",
      "d 5\n"
     ]
    }
   ],
   "source": [
    "data= {\"a\":10,\n",
    "       \"b\":20,\n",
    "       \"c\":50,\n",
    "       \"d\":5,\n",
    "       }\n",
    "for k,v in data.items():\n",
    "  print (k,v)\n"
   ]
  },
  {
   "cell_type": "code",
   "execution_count": 67,
   "id": "c1c1ca5b",
   "metadata": {},
   "outputs": [
    {
     "name": "stdout",
     "output_type": "stream",
     "text": [
      "c 50\n"
     ]
    }
   ],
   "source": [
    "data= {\"a\":10,\n",
    "       \"b\":20,\n",
    "       \"c\":50,\n",
    "       \"d\":5,\n",
    "       }\n",
    "\n",
    "max = -1\n",
    "for k,v in data.items():\n",
    "    if v > max:\n",
    "        max = v\n",
    "        l_k=k\n",
    "print(f\"{l_k} {max}\")"
   ]
  }
 ],
 "metadata": {
  "kernelspec": {
   "display_name": "Python 3",
   "language": "python",
   "name": "python3"
  },
  "language_info": {
   "codemirror_mode": {
    "name": "ipython",
    "version": 3
   },
   "file_extension": ".py",
   "mimetype": "text/x-python",
   "name": "python",
   "nbconvert_exporter": "python",
   "pygments_lexer": "ipython3",
   "version": "3.13.6"
  }
 },
 "nbformat": 4,
 "nbformat_minor": 5
}
