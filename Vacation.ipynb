{
 "cells": [
  {
   "cell_type": "code",
   "execution_count": null,
   "id": "603c2ae1",
   "metadata": {},
   "outputs": [
    {
     "name": "stdout",
     "output_type": "stream",
     "text": [
      "In this last week i have done many things that I had never thought I would've done.\n",
      "My trip started the evening of August 7, where I took a 9 o'clock ferry to Vancouver immediately after a basketball game. \n",
      "That night I stayed at the River ROck hotel in Vancouver. The next morning, I woke up very early to go to the airport where I would catch my first flight to Atlanta. \n",
      "I had a small layover in Atlanta so I ate some fried chicken. After my meal I headed to my flight to Orlando. I spent two days in Orlando at Disney World before boarding my cruise ship. \n",
      "At Disney, we went on many thrilling rides and ate some cool Disney food. At Disney, I also met an NBA player. \n",
      "On the first day of the cruise I played some basketball and made a friend named Cooper, where I later spent the whole cruise with him. \n",
      "Every night there was something to do from parties to basketball to just walking around and soaking in the vibe. \n",
      "On the very last night on the cruise, a lot of us teenagers on the boat hung out together, where I could feel that everyone was sad. \n",
      "That night when I went to bed, I realised that was the last time I would probably ever see them again. After the Cruise, we went to Universal Studios. \n",
      "Universal Studios' rides were very thrilling and are highly competitive with the Disney rides. \n",
      "The next morning I slept in a little and headed to the airport to go back home. \n",
      "We waited like an hour on the plane before we could take off because of the storm which sucked because it made our connection so tight. \n",
      "When we landed in Vancouver, my great uncle picked us up and drove us to the BC Ferries terminal where we took the 10 o'clock ferry home.\n"
     ]
    }
   ],
   "source": [
    "print(\"In this last week i have done many things that I had never thought I would've done.\")\n",
    "print(\"My trip started the evening of August 7, where I took a 9 o'clock ferry to Vancouver immediately after a basketball game. \") \n",
    "print(\"That night I stayed at the River Rock hotel in Vancouver. The next morning, I woke up very early to go to the airport where I would catch my first flight to Atlanta. \") \n",
    "print(\"I had a small layover in Atlanta so I ate some fried chicken. After my meal I headed to my flight to Orlando. I spent two days in Orlando at Disney World before boarding my cruise ship. \") \n",
    "print(\"At Disney, we went on many thrilling rides and ate some cool Disney food. At Disney, I also met an NBA player. \") \n",
    "print(\"On the first day of the cruise I played some basketball and made a friend named Cooper, where I later spent the whole cruise with him. \" )\n",
    "print(\"Every night there was something to do from parties to basketball to just walking around and soaking in the vibe. \") \n",
    "print(\"On the very last night on the cruise, a lot of us teenagers on the boat hung out together, where I could feel that everyone was sad. \") \n",
    "print(\"That night when I went to bed, I realised that was the last time I would probably ever see them again. After the Cruise, we went to Universal Studios. \") \n",
    "print(\"Universal Studios' rides were very thrilling and are highly competitive with the Disney rides. \") \n",
    "print(\"The next morning I slept in a little and headed to the airport to go back home. \") \n",
    "print(\"We waited like an hour on the plane before we could take off because of the storm which sucked because it made our connection so tight. \") \n",
    "print(\"When we landed in Vancouver, my great uncle picked us up and drove us to the BC Ferries terminal where we took the 10 o'clock ferry home.\")\n"
   ]
  }
 ],
 "metadata": {
  "kernelspec": {
   "display_name": "Python 3",
   "language": "python",
   "name": "python3"
  },
  "language_info": {
   "codemirror_mode": {
    "name": "ipython",
    "version": 3
   },
   "file_extension": ".py",
   "mimetype": "text/x-python",
   "name": "python",
   "nbconvert_exporter": "python",
   "pygments_lexer": "ipython3",
   "version": "3.13.6"
  }
 },
 "nbformat": 4,
 "nbformat_minor": 5
}
