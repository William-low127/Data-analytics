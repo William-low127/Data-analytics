{
 "cells": [
  {
   "cell_type": "markdown",
   "id": "bf913425",
   "metadata": {},
   "source": [
    "# Weather"
   ]
  },
  {
   "cell_type": "code",
   "execution_count": 5,
   "id": "895df633",
   "metadata": {},
   "outputs": [
    {
     "name": "stdout",
     "output_type": "stream",
     "text": [
      "if raining\n",
      "bring umbrella\n"
     ]
    }
   ],
   "source": [
    "status = \"rain\"\n",
    "if status == 'rain':\n",
    "    print('if raining')\n",
    "    print ('bring umbrella')"
   ]
  },
  {
   "cell_type": "code",
   "execution_count": 6,
   "id": "ecd2d692",
   "metadata": {},
   "outputs": [
    {
     "name": "stdout",
     "output_type": "stream",
     "text": [
      "if sunny\n",
      "bring sunscreen\n"
     ]
    }
   ],
   "source": [
    "status = \"sun\"\n",
    "if status== \"sun\":\n",
    "    print('if sunny')\n",
    "    print ('bring sunscreen')"
   ]
  },
  {
   "cell_type": "code",
   "execution_count": 7,
   "id": "90151dbe",
   "metadata": {},
   "outputs": [
    {
     "name": "stdout",
     "output_type": "stream",
     "text": [
      "if stormy\n",
      "stay at home\n"
     ]
    }
   ],
   "source": [
    "status = 'stormy'\n",
    "if status == 'stormy':\n",
    "    print('if stormy')\n",
    "    print('stay at home')"
   ]
  },
  {
   "cell_type": "markdown",
   "id": "ab80fafe",
   "metadata": {},
   "source": [
    "# Part Two"
   ]
  },
  {
   "cell_type": "code",
   "execution_count": 8,
   "id": "46cf1a38",
   "metadata": {},
   "outputs": [
    {
     "name": "stdout",
     "output_type": "stream",
     "text": [
      "positve\n"
     ]
    }
   ],
   "source": [
    "number = 67\n",
    "if number < 0:\n",
    "    print ('negative')\n",
    "elif number > 0:\n",
    "    print ('positve')"
   ]
  },
  {
   "cell_type": "markdown",
   "id": "cd4a67f4",
   "metadata": {},
   "source": [
    "# Part 3"
   ]
  },
  {
   "cell_type": "code",
   "execution_count": 12,
   "id": "9781c1bb",
   "metadata": {},
   "outputs": [
    {
     "name": "stdout",
     "output_type": "stream",
     "text": [
      "69 is larger\n"
     ]
    }
   ],
   "source": [
    "x = 67\n",
    "y = 69\n",
    "if x > y:\n",
    "    print(f'{x} is greater')\n",
    "if x< y:\n",
    "    print (f'{y} is larger')"
   ]
  },
  {
   "cell_type": "markdown",
   "id": "6760d136",
   "metadata": {},
   "source": [
    "# Part 5"
   ]
  },
  {
   "cell_type": "code",
   "execution_count": 11,
   "id": "4dbf0f35",
   "metadata": {},
   "outputs": [
    {
     "name": "stdout",
     "output_type": "stream",
     "text": [
      "8 is even.\n"
     ]
    }
   ],
   "source": [
    "v=8\n",
    "if v%2 == 0:\n",
    "    print(f\"{v} is even.\")\n",
    "else:\n",
    "    print(f\"{v} is odd.\")\n",
    "\n"
   ]
  }
 ],
 "metadata": {
  "kernelspec": {
   "display_name": "Python 3",
   "language": "python",
   "name": "python3"
  },
  "language_info": {
   "codemirror_mode": {
    "name": "ipython",
    "version": 3
   },
   "file_extension": ".py",
   "mimetype": "text/x-python",
   "name": "python",
   "nbconvert_exporter": "python",
   "pygments_lexer": "ipython3",
   "version": "3.13.6"
  }
 },
 "nbformat": 4,
 "nbformat_minor": 5
}
