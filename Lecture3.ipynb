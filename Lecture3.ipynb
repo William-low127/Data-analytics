{
 "cells": [
  {
   "cell_type": "code",
   "execution_count": 1,
   "id": "c58cec4d",
   "metadata": {},
   "outputs": [
    {
     "name": "stdout",
     "output_type": "stream",
     "text": [
      "hello\n"
     ]
    }
   ],
   "source": [
    "# single or double quotation mark should always be used for writing words. If quotes are left out, it will confuse the computer thinking its a number. No quotations will always be seen as numbers.\n",
    "x = \"hello\"\n",
    "print (x)"
   ]
  },
  {
   "cell_type": "markdown",
   "id": "bc0f930c",
   "metadata": {},
   "source": [
    "# f-string\n"
   ]
  },
  {
   "cell_type": "code",
   "execution_count": null,
   "id": "5868408f",
   "metadata": {},
   "outputs": [
    {
     "ename": "SyntaxError",
     "evalue": "invalid syntax (4032683205.py, line 3)",
     "output_type": "error",
     "traceback": [
      "  \u001b[36mCell\u001b[39m\u001b[36m \u001b[39m\u001b[32mIn[4]\u001b[39m\u001b[32m, line 3\u001b[39m\n\u001b[31m    \u001b[39m\u001b[31mprint (\"Hello, my name is\") print (name) print (\"I am also\") print (age)\u001b[39m\n                                ^\n\u001b[31mSyntaxError\u001b[39m\u001b[31m:\u001b[39m invalid syntax\n"
     ]
    }
   ],
   "source": [
    "name = \"William\"\n",
    "age = \"15\"\n",
    "print (\"Hello, my name is\") print (name) print (\"I am also\") print (age)"
   ]
  },
  {
   "cell_type": "code",
   "execution_count": 5,
   "id": "cee96fec",
   "metadata": {},
   "outputs": [
    {
     "name": "stdout",
     "output_type": "stream",
     "text": [
      "Hello, my name is\n",
      "William\n",
      "I am also\n",
      "15 years old\n"
     ]
    }
   ],
   "source": [
    "print (\"Hello, my name is\")\n",
    "print (name)\n",
    "print (\"I am also\")\n",
    "print (age)"
   ]
  },
  {
   "cell_type": "code",
   "execution_count": 9,
   "id": "ac4bea5d",
   "metadata": {},
   "outputs": [
    {
     "name": "stdout",
     "output_type": "stream",
     "text": [
      "my name is William, and I am 15 years old years old \n"
     ]
    }
   ],
   "source": [
    "print (f\"my name is {name}, and I am {age} years old \")"
   ]
  },
  {
   "cell_type": "markdown",
   "id": "96c60cb5",
   "metadata": {},
   "source": [
    "# Comparison Operation"
   ]
  },
  {
   "cell_type": "code",
   "execution_count": 13,
   "id": "b4965d04",
   "metadata": {},
   "outputs": [
    {
     "data": {
      "text/plain": [
       "False"
      ]
     },
     "execution_count": 13,
     "metadata": {},
     "output_type": "execute_result"
    }
   ],
   "source": [
    "1>2"
   ]
  },
  {
   "cell_type": "code",
   "execution_count": 14,
   "id": "86f5ee46",
   "metadata": {},
   "outputs": [
    {
     "data": {
      "text/plain": [
       "True"
      ]
     },
     "execution_count": 14,
     "metadata": {},
     "output_type": "execute_result"
    }
   ],
   "source": [
    "1<2"
   ]
  },
  {
   "cell_type": "code",
   "execution_count": 15,
   "id": "c97a2512",
   "metadata": {},
   "outputs": [
    {
     "data": {
      "text/plain": [
       "True"
      ]
     },
     "execution_count": 15,
     "metadata": {},
     "output_type": "execute_result"
    }
   ],
   "source": [
    "1>=1"
   ]
  },
  {
   "cell_type": "code",
   "execution_count": 16,
   "id": "a6f98b92",
   "metadata": {},
   "outputs": [
    {
     "data": {
      "text/plain": [
       "True"
      ]
     },
     "execution_count": 16,
     "metadata": {},
     "output_type": "execute_result"
    }
   ],
   "source": [
    "1<=4"
   ]
  },
  {
   "cell_type": "code",
   "execution_count": 19,
   "id": "bc98054e",
   "metadata": {},
   "outputs": [
    {
     "ename": "SyntaxError",
     "evalue": "cannot assign to literal here. Maybe you meant '==' instead of '='? (1748595019.py, line 1)",
     "output_type": "error",
     "traceback": [
      "  \u001b[36mCell\u001b[39m\u001b[36m \u001b[39m\u001b[32mIn[19]\u001b[39m\u001b[32m, line 1\u001b[39m\n\u001b[31m    \u001b[39m\u001b[31m1=1\u001b[39m\n    ^\n\u001b[31mSyntaxError\u001b[39m\u001b[31m:\u001b[39m cannot assign to literal here. Maybe you meant '==' instead of '='?\n"
     ]
    }
   ],
   "source": [
    "1=1"
   ]
  },
  {
   "cell_type": "code",
   "execution_count": 20,
   "id": "8dc6c0f5",
   "metadata": {},
   "outputs": [
    {
     "data": {
      "text/plain": [
       "True"
      ]
     },
     "execution_count": 20,
     "metadata": {},
     "output_type": "execute_result"
    }
   ],
   "source": [
    "1==1"
   ]
  },
  {
   "cell_type": "code",
   "execution_count": 21,
   "id": "00eb5480",
   "metadata": {},
   "outputs": [
    {
     "data": {
      "text/plain": [
       "False"
      ]
     },
     "execution_count": 21,
     "metadata": {},
     "output_type": "execute_result"
    }
   ],
   "source": [
    "\"Hi\"==\"Hello\""
   ]
  },
  {
   "cell_type": "code",
   "execution_count": 22,
   "id": "7ba4ebcb",
   "metadata": {},
   "outputs": [
    {
     "data": {
      "text/plain": [
       "False"
      ]
     },
     "execution_count": 22,
     "metadata": {},
     "output_type": "execute_result"
    }
   ],
   "source": [
    "\"Hi\"==\"hi\""
   ]
  },
  {
   "cell_type": "code",
   "execution_count": 23,
   "id": "d2e77833",
   "metadata": {},
   "outputs": [
    {
     "data": {
      "text/plain": [
       "True"
      ]
     },
     "execution_count": 23,
     "metadata": {},
     "output_type": "execute_result"
    }
   ],
   "source": [
    "\"hi\"==\"hi\""
   ]
  },
  {
   "cell_type": "markdown",
   "id": "12c86431",
   "metadata": {},
   "source": [
    "# Logic Operator"
   ]
  },
  {
   "cell_type": "code",
   "execution_count": 24,
   "id": "4940e829",
   "metadata": {},
   "outputs": [
    {
     "data": {
      "text/plain": [
       "False"
      ]
     },
     "execution_count": 24,
     "metadata": {},
     "output_type": "execute_result"
    }
   ],
   "source": [
    "(1>2) and (2<3)"
   ]
  },
  {
   "cell_type": "code",
   "execution_count": 25,
   "id": "c01f96ae",
   "metadata": {},
   "outputs": [
    {
     "data": {
      "text/plain": [
       "False"
      ]
     },
     "execution_count": 25,
     "metadata": {},
     "output_type": "execute_result"
    }
   ],
   "source": [
    "(1>2) & (2<3)"
   ]
  },
  {
   "cell_type": "code",
   "execution_count": 26,
   "id": "d182a2bd",
   "metadata": {},
   "outputs": [
    {
     "data": {
      "text/plain": [
       "True"
      ]
     },
     "execution_count": 26,
     "metadata": {},
     "output_type": "execute_result"
    }
   ],
   "source": [
    "(1>2) or (2<3)"
   ]
  },
  {
   "cell_type": "code",
   "execution_count": 27,
   "id": "e23f42ff",
   "metadata": {},
   "outputs": [
    {
     "data": {
      "text/plain": [
       "True"
      ]
     },
     "execution_count": 27,
     "metadata": {},
     "output_type": "execute_result"
    }
   ],
   "source": [
    "(1>2) | (2<3)"
   ]
  },
  {
   "cell_type": "markdown",
   "id": "bf81a8c8",
   "metadata": {},
   "source": [
    "# if, else if statement"
   ]
  },
  {
   "cell_type": "code",
   "execution_count": null,
   "id": "818d7d66",
   "metadata": {},
   "outputs": [],
   "source": [
    "if 1>2 :\n",
    "    print(\"yep\") # the conditional expression is false so this line will never execute\n",
    "    print ('now what') # the execution of this line does not need it to be true so it executes."
   ]
  },
  {
   "cell_type": "code",
   "execution_count": 40,
   "id": "f4aee66e",
   "metadata": {},
   "outputs": [
    {
     "name": "stdout",
     "output_type": "stream",
     "text": [
      "nope\n"
     ]
    }
   ],
   "source": [
    "if (1>2) :\n",
    "    print('yep')\n",
    "else:\n",
    "    print ('nope')"
   ]
  },
  {
   "cell_type": "code",
   "execution_count": 46,
   "id": "2c20bed4",
   "metadata": {},
   "outputs": [
    {
     "name": "stdout",
     "output_type": "stream",
     "text": [
      "second\n"
     ]
    }
   ],
   "source": [
    "if 1 == 2:\n",
    "    print ('first')\n",
    "elif 3==3:\n",
    "    print ('second')\n",
    "elif 2==2:\n",
    "    print('third')\n",
    "else:\n",
    "    print ('last')"
   ]
  },
  {
   "cell_type": "code",
   "execution_count": 47,
   "id": "49deec26",
   "metadata": {},
   "outputs": [
    {
     "name": "stdout",
     "output_type": "stream",
     "text": [
      "greaterthan1\n",
      "greaterthan5\n"
     ]
    }
   ],
   "source": [
    "age = 10\n",
    "if age> 1 :\n",
    "    print('greaterthan1')\n",
    "if age > 5:\n",
    "        print ('greaterthan5')\n",
    "if age > 15 :\n",
    "      print('greaterthan15')"
   ]
  },
  {
   "cell_type": "code",
   "execution_count": 48,
   "id": "8f289300",
   "metadata": {},
   "outputs": [
    {
     "name": "stdout",
     "output_type": "stream",
     "text": [
      "greaterthan1\n"
     ]
    }
   ],
   "source": [
    "age = 10\n",
    "if age> 1 :\n",
    "    print('greaterthan1')\n",
    "elif age > 5:\n",
    "        print ('greaterthan5')\n",
    "else:\n",
    "      print('other possibility')"
   ]
  }
 ],
 "metadata": {
  "kernelspec": {
   "display_name": "Python 3",
   "language": "python",
   "name": "python3"
  },
  "language_info": {
   "codemirror_mode": {
    "name": "ipython",
    "version": 3
   },
   "file_extension": ".py",
   "mimetype": "text/x-python",
   "name": "python",
   "nbconvert_exporter": "python",
   "pygments_lexer": "ipython3",
   "version": "3.13.6"
  }
 },
 "nbformat": 4,
 "nbformat_minor": 5
}
