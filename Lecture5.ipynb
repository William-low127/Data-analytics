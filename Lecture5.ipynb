{
 "cells": [
  {
   "cell_type": "markdown",
   "id": "971ec1cd",
   "metadata": {},
   "source": [
    "# Dictionary"
   ]
  },
  {
   "cell_type": "code",
   "execution_count": null,
   "id": "b9ca261e",
   "metadata": {},
   "outputs": [
    {
     "name": "stdout",
     "output_type": "stream",
     "text": [
      "William\n",
      "15\n",
      "Victoria\n",
      "William\n",
      "15\n",
      "Victoria\n"
     ]
    }
   ],
   "source": [
    "d= {'name':'William',\n",
    "    'age':'15',\n",
    "    'city':'Victoria'\n",
    "    }\n",
    "print (d['name'])\n",
    "print (d['age'])\n",
    "print (d['city'])\n",
    "\n",
    "for x in d:\n",
    "    print(d[x]) #x loops all the keys"
   ]
  }
 ],
 "metadata": {
  "kernelspec": {
   "display_name": "Python 3",
   "language": "python",
   "name": "python3"
  },
  "language_info": {
   "codemirror_mode": {
    "name": "ipython",
    "version": 3
   },
   "file_extension": ".py",
   "mimetype": "text/x-python",
   "name": "python",
   "nbconvert_exporter": "python",
   "pygments_lexer": "ipython3",
   "version": "3.13.6"
  }
 },
 "nbformat": 4,
 "nbformat_minor": 5
}
