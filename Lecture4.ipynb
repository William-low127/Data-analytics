{
 "cells": [
  {
   "cell_type": "markdown",
   "id": "de33f808",
   "metadata": {},
   "source": [
    "# For Loops"
   ]
  },
  {
   "cell_type": "code",
   "execution_count": null,
   "id": "c32f15a9",
   "metadata": {},
   "outputs": [
    {
     "name": "stdout",
     "output_type": "stream",
     "text": [
      "1\n",
      "2\n",
      "3\n",
      "4\n",
      "5\n",
      "6\n",
      "7\n",
      "8\n",
      "9\n",
      "10\n"
     ]
    }
   ],
   "source": [
    "for i in range(1,11): #the last number is always exclusive. that is why 11 is not there\n",
    "    print(i)"
   ]
  },
  {
   "cell_type": "code",
   "execution_count": null,
   "id": "87b6601e",
   "metadata": {},
   "outputs": [
    {
     "name": "stdout",
     "output_type": "stream",
     "text": [
      "1\n",
      "2\n",
      "3\n",
      "4\n",
      "5\n",
      "6\n",
      "7\n",
      "8\n",
      "9\n",
      "10\n",
      "11\n",
      "12\n",
      "13\n",
      "14\n",
      "15\n",
      "16\n",
      "17\n",
      "18\n",
      "19\n",
      "20\n"
     ]
    }
   ],
   "source": [
    "for i in range(1,21): \n",
    "    print(i)"
   ]
  },
  {
   "cell_type": "code",
   "execution_count": null,
   "id": "6203f8fa",
   "metadata": {},
   "outputs": [
    {
     "name": "stdout",
     "output_type": "stream",
     "text": [
      "1\n",
      "3\n",
      "5\n",
      "7\n",
      "9\n"
     ]
    }
   ],
   "source": [
    "for i in range(1,11,2): #last number is always exclusive no matter what\n",
    "    print(i)"
   ]
  },
  {
   "cell_type": "code",
   "execution_count": null,
   "id": "b14b791c",
   "metadata": {},
   "outputs": [
    {
     "name": "stdout",
     "output_type": "stream",
     "text": [
      "1\n",
      "4\n",
      "7\n",
      "10\n"
     ]
    }
   ],
   "source": [
    "for i in range(1,11,3): #last number is always exclusive no matter what. Caps off at 10. the third comma number is how many steps each jump is.\n",
    "    print(i)"
   ]
  },
  {
   "cell_type": "code",
   "execution_count": 16,
   "id": "14e8ee9b",
   "metadata": {},
   "outputs": [
    {
     "ename": "SyntaxError",
     "evalue": "invalid syntax (1128903781.py, line 2)",
     "output_type": "error",
     "traceback": [
      "  \u001b[36mCell\u001b[39m\u001b[36m \u001b[39m\u001b[32mIn[16]\u001b[39m\u001b[32m, line 2\u001b[39m\n\u001b[31m    \u001b[39m\u001b[31mx=sum of for i in range (1,101)\u001b[39m\n          ^\n\u001b[31mSyntaxError\u001b[39m\u001b[31m:\u001b[39m invalid syntax\n"
     ]
    }
   ],
   "source": [
    "sum= 0+ x\n",
    "x=sum of for i in range (1,101)\n",
    "    print (sum)\n"
   ]
  },
  {
   "cell_type": "code",
   "execution_count": 18,
   "id": "028b2db4",
   "metadata": {},
   "outputs": [
    {
     "name": "stdout",
     "output_type": "stream",
     "text": [
      "5050\n"
     ]
    }
   ],
   "source": [
    "sum = 0\n",
    "for i in range(1,101):\n",
    "    sum=sum+i\n",
    "print (sum)"
   ]
  },
  {
   "cell_type": "code",
   "execution_count": 23,
   "id": "3be7f21d",
   "metadata": {},
   "outputs": [
    {
     "name": "stdout",
     "output_type": "stream",
     "text": [
      "2\n",
      "4\n",
      "6\n",
      "8\n",
      "10\n",
      "12\n",
      "14\n",
      "16\n",
      "18\n",
      "20\n"
     ]
    }
   ],
   "source": [
    "for i in range(2,21,2):\n",
    "    print(i)"
   ]
  },
  {
   "cell_type": "markdown",
   "id": "40f50632",
   "metadata": {},
   "source": [
    "# Lists"
   ]
  },
  {
   "cell_type": "code",
   "execution_count": 27,
   "id": "97def927",
   "metadata": {},
   "outputs": [
    {
     "name": "stdout",
     "output_type": "stream",
     "text": [
      "[3, 7, 9]\n",
      "7\n"
     ]
    }
   ],
   "source": [
    "#Lists are always in square brackets[]\n",
    "age=[3,7,9]\n",
    "print(age)\n",
    "print(age[1])\n"
   ]
  },
  {
   "cell_type": "code",
   "execution_count": 28,
   "id": "63423dca",
   "metadata": {},
   "outputs": [
    {
     "name": "stdout",
     "output_type": "stream",
     "text": [
      "[3, 7, 9, 10]\n"
     ]
    }
   ],
   "source": [
    "age.append(10)\n",
    "print(age)"
   ]
  },
  {
   "cell_type": "code",
   "execution_count": 29,
   "id": "9c9e27bc",
   "metadata": {},
   "outputs": [
    {
     "name": "stdout",
     "output_type": "stream",
     "text": [
      "[3, 7, 9, 10]\n"
     ]
    }
   ],
   "source": [
    "print(age)"
   ]
  },
  {
   "cell_type": "code",
   "execution_count": 30,
   "id": "d17a7052",
   "metadata": {},
   "outputs": [
    {
     "name": "stdout",
     "output_type": "stream",
     "text": [
      "[3, 7, 10]\n"
     ]
    }
   ],
   "source": [
    "age.remove(9)\n",
    "print(age)"
   ]
  },
  {
   "cell_type": "code",
   "execution_count": 31,
   "id": "12709c36",
   "metadata": {},
   "outputs": [
    {
     "name": "stdout",
     "output_type": "stream",
     "text": [
      "3\n",
      "7\n",
      "10\n"
     ]
    }
   ],
   "source": [
    "for i in age:\n",
    "    print(i)"
   ]
  },
  {
   "cell_type": "code",
   "execution_count": 33,
   "id": "fa7210c1",
   "metadata": {},
   "outputs": [
    {
     "name": "stdout",
     "output_type": "stream",
     "text": [
      "range(1, 5)\n"
     ]
    }
   ],
   "source": [
    "test = range(1,5)\n",
    "print(test)"
   ]
  },
  {
   "cell_type": "code",
   "execution_count": 34,
   "id": "e8332a42",
   "metadata": {},
   "outputs": [
    {
     "name": "stdout",
     "output_type": "stream",
     "text": [
      "3\n",
      "4\n",
      "5\n"
     ]
    }
   ],
   "source": [
    "for i in [3, 4, 5]:\n",
    "    print (i)"
   ]
  },
  {
   "cell_type": "markdown",
   "id": "5efff366",
   "metadata": {},
   "source": [
    "# Sort a list"
   ]
  },
  {
   "cell_type": "code",
   "execution_count": 36,
   "id": "ca1161f0",
   "metadata": {},
   "outputs": [
    {
     "name": "stdout",
     "output_type": "stream",
     "text": [
      "[5, 10, 17, 22, 97]\n"
     ]
    }
   ],
   "source": [
    "given = [22,10,97,17,5]\n",
    "given.sort()\n",
    "print (given)"
   ]
  },
  {
   "cell_type": "markdown",
   "id": "1934c06e",
   "metadata": {},
   "source": [
    "# Mod"
   ]
  },
  {
   "cell_type": "code",
   "execution_count": 38,
   "id": "42153a02",
   "metadata": {},
   "outputs": [
    {
     "name": "stdout",
     "output_type": "stream",
     "text": [
      "[6, 5]\n"
     ]
    }
   ],
   "source": [
    "num = [1,6,5]\n",
    "num.remove(1)\n",
    "print (num)"
   ]
  },
  {
   "cell_type": "code",
   "execution_count": 41,
   "id": "6c1b2900",
   "metadata": {},
   "outputs": [
    {
     "name": "stdout",
     "output_type": "stream",
     "text": [
      "[3, 6, 5]\n"
     ]
    }
   ],
   "source": [
    "num = [1,6,5]\n",
    "num [0] = 3\n",
    "print (num)"
   ]
  },
  {
   "cell_type": "code",
   "execution_count": 45,
   "id": "9778cfd6",
   "metadata": {},
   "outputs": [
    {
     "name": "stdout",
     "output_type": "stream",
     "text": [
      "[3, 7, 5]\n"
     ]
    }
   ],
   "source": [
    "num = [3, 6, 5]\n",
    "num [1] = 7\n",
    "print (num)"
   ]
  },
  {
   "cell_type": "markdown",
   "id": "7699225a",
   "metadata": {},
   "source": [
    "# Tuple"
   ]
  },
  {
   "cell_type": "code",
   "execution_count": null,
   "id": "3d494156",
   "metadata": {},
   "outputs": [
    {
     "ename": "SyntaxError",
     "evalue": "cannot assign to function call here. Maybe you meant '==' instead of '='? (1707242352.py, line 2)",
     "output_type": "error",
     "traceback": [
      "  \u001b[36mCell\u001b[39m\u001b[36m \u001b[39m\u001b[32mIn[46]\u001b[39m\u001b[32m, line 2\u001b[39m\n\u001b[31m    \u001b[39m\u001b[31mt (t[0]) = 67\u001b[39m\n    ^\n\u001b[31mSyntaxError\u001b[39m\u001b[31m:\u001b[39m cannot assign to function call here. Maybe you meant '==' instead of '='?\n"
     ]
    }
   ],
   "source": [
    "#differences- bracket styles- you cannot modify the tuples contents\n",
    "t = (1,2,3)\n",
    "t (t[0]) = 67\n",
    "print (t)\n"
   ]
  }
 ],
 "metadata": {
  "kernelspec": {
   "display_name": "Python 3",
   "language": "python",
   "name": "python3"
  },
  "language_info": {
   "codemirror_mode": {
    "name": "ipython",
    "version": 3
   },
   "file_extension": ".py",
   "mimetype": "text/x-python",
   "name": "python",
   "nbconvert_exporter": "python",
   "pygments_lexer": "ipython3",
   "version": "3.13.6"
  }
 },
 "nbformat": 4,
 "nbformat_minor": 5
}
