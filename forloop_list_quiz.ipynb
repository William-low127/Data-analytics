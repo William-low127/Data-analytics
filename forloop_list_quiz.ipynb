{
 "cells": [
  {
   "cell_type": "code",
   "execution_count": null,
   "id": "aa777de3",
   "metadata": {},
   "outputs": [],
   "source": [
    "given = [22, 10, 97, 17, 5]\n",
    "wanted =[]#less than 20"
   ]
  },
  {
   "cell_type": "code",
   "execution_count": 3,
   "id": "78c5537a",
   "metadata": {},
   "outputs": [
    {
     "name": "stdout",
     "output_type": "stream",
     "text": [
      "the largest number is: 99\n"
     ]
    }
   ],
   "source": [
    "numbers= [12,45,78,23,56,99,34]\n",
    "x= 12\n",
    "for i in range(1,7):\n",
    "    # print(numbers[i])\n",
    "    if x>(numbers[i]):\n",
    "        pass\n",
    "    else:\n",
    "        x=(numbers[i])\n",
    "print(\"the largest number is:\", x)"
   ]
  },
  {
   "cell_type": "code",
   "execution_count": 2,
   "id": "8c68b459",
   "metadata": {},
   "outputs": [
    {
     "name": "stdout",
     "output_type": "stream",
     "text": [
      "[22, 10, 97, 17, 5]\n"
     ]
    }
   ],
   "source": [
    "given = [22, 10, 97, 17, 5]\n",
    "print (given)"
   ]
  },
  {
   "cell_type": "code",
   "execution_count": null,
   "id": "e9f2d266",
   "metadata": {},
   "outputs": [],
   "source": [
    "given = [22, 10, 97, 17, 5]\n",
    "wanted =[]#less than 20\n",
    "age=[3,7,9]\n",
    "print(age)\n"
   ]
  },
  {
   "cell_type": "code",
   "execution_count": null,
   "id": "f7a10d70",
   "metadata": {},
   "outputs": [],
   "source": [
    "age.append(10)\n",
    "print(age)"
   ]
  },
  {
   "cell_type": "code",
   "execution_count": 30,
   "id": "dac366c2",
   "metadata": {},
   "outputs": [
    {
     "name": "stdout",
     "output_type": "stream",
     "text": [
      "[10, 17, 5]\n"
     ]
    }
   ],
   "source": [
    "given = [22, 10, 97, 17, 5]\n",
    "wanted =[]#less than 20\n",
    "x= 20\n",
    "for i in range(0,5):\n",
    "    if x< given[i]:\n",
    "        pass\n",
    "    else:\n",
    "        temp=(given[i])\n",
    "        wanted.append(temp)\n",
    "print(wanted)\n"
   ]
  },
  {
   "cell_type": "code",
   "execution_count": 1,
   "id": "d3d1b169",
   "metadata": {},
   "outputs": [
    {
     "name": "stdout",
     "output_type": "stream",
     "text": [
      "[10, 17, 5]\n"
     ]
    }
   ],
   "source": [
    "given = [22, 10, 97, 17, 5]\n",
    "wanted =[]#less than 20\n",
    "for i in range (0,5):\n",
    "    if 20<given[i]:\n",
    "        pass\n",
    "    else:\n",
    "        temp= given[i]\n",
    "        wanted.append(temp)\n",
    "print(wanted)"
   ]
  },
  {
   "cell_type": "code",
   "execution_count": 14,
   "id": "079257f9",
   "metadata": {},
   "outputs": [
    {
     "name": "stdout",
     "output_type": "stream",
     "text": [
      "[10, 17, 5]\n"
     ]
    }
   ],
   "source": [
    "given = [22, 10, 97, 17, 5]\n",
    "wanted =[]#less than 20\n",
    "for i in range (0,5):\n",
    "    if 20>given[i]:\n",
    "        temp= given[i]\n",
    "        wanted.append(temp)\n",
    "print(wanted)"
   ]
  }
 ],
 "metadata": {
  "kernelspec": {
   "display_name": "Python 3",
   "language": "python",
   "name": "python3"
  },
  "language_info": {
   "codemirror_mode": {
    "name": "ipython",
    "version": 3
   },
   "file_extension": ".py",
   "mimetype": "text/x-python",
   "name": "python",
   "nbconvert_exporter": "python",
   "pygments_lexer": "ipython3",
   "version": "3.13.6"
  }
 },
 "nbformat": 4,
 "nbformat_minor": 5
}
