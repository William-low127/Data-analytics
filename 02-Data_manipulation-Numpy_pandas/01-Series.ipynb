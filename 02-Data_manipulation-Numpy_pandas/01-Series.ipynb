{
 "cells": [
  {
   "cell_type": "markdown",
   "id": "b1a3a34b",
   "metadata": {},
   "source": [
    "# Import"
   ]
  },
  {
   "cell_type": "code",
   "execution_count": 8,
   "id": "fa9e2f78",
   "metadata": {},
   "outputs": [],
   "source": [
    "import numpy as np \n",
    "import pandas as pd\n",
    "# all data science and ai engineers write it like this. it is industrial standard"
   ]
  },
  {
   "cell_type": "markdown",
   "id": "2da3074b",
   "metadata": {},
   "source": [
    "# What is series"
   ]
  },
  {
   "cell_type": "code",
   "execution_count": 5,
   "id": "4195fd1b",
   "metadata": {},
   "outputs": [],
   "source": [
    "# a series is a single column of a data sheet plus index column"
   ]
  },
  {
   "cell_type": "markdown",
   "id": "fd0015c9",
   "metadata": {},
   "source": [
    "# Creating a series from a list"
   ]
  },
  {
   "cell_type": "code",
   "execution_count": 11,
   "id": "67d76da4",
   "metadata": {},
   "outputs": [
    {
     "data": {
      "text/plain": [
       "0    1776\n",
       "1    1867\n",
       "2    1621\n",
       "dtype: int64"
      ]
     },
     "execution_count": 11,
     "metadata": {},
     "output_type": "execute_result"
    }
   ],
   "source": [
    "mydata = [1776, 1867, 1621]\n",
    "myseries = pd.Series (data = mydata)#the period is like saying pandas' series\n",
    "myseries"
   ]
  },
  {
   "cell_type": "code",
   "execution_count": null,
   "id": "c5ed2157",
   "metadata": {},
   "outputs": [],
   "source": [
    "# dtype is short for datatype\n",
    "# int32 for example (-100, 100) 2^32\n",
    "# int64 for example (-1000, 1000) 2^64\n"
   ]
  },
  {
   "cell_type": "markdown",
   "id": "70db8379",
   "metadata": {},
   "source": [
    "# Create series by customize index"
   ]
  },
  {
   "cell_type": "code",
   "execution_count": 12,
   "id": "e4f94c16",
   "metadata": {},
   "outputs": [
    {
     "data": {
      "text/plain": [
       "USA       1776\n",
       "Canada    1867\n",
       "Mexico    1621\n",
       "dtype: int64"
      ]
     },
     "execution_count": 12,
     "metadata": {},
     "output_type": "execute_result"
    }
   ],
   "source": [
    "myindex = [\"USA\", \"Canada\", \"Mexico\"]\n",
    "myseries2 = pd.Series (data = mydata, index = myindex)\n",
    "myseries2"
   ]
  },
  {
   "cell_type": "markdown",
   "id": "764b29b6",
   "metadata": {},
   "source": [
    "# Create a random number by usig numpy"
   ]
  },
  {
   "cell_type": "code",
   "execution_count": 77,
   "id": "a6685a8c",
   "metadata": {},
   "outputs": [
    {
     "data": {
      "text/plain": [
       "array([10, 84, 43, 53])"
      ]
     },
     "execution_count": 77,
     "metadata": {},
     "output_type": "execute_result"
    }
   ],
   "source": [
    "rand_num = np.random.randint (0,100,4)#the first is the minimum the second is the max and the last is the number of result\n",
    "rand_num"
   ]
  },
  {
   "cell_type": "code",
   "execution_count": 91,
   "id": "8075c019",
   "metadata": {},
   "outputs": [
    {
     "data": {
      "text/plain": [
       "Will     20\n",
       "Isaac    19\n",
       "Alex     18\n",
       "dtype: int64"
      ]
     },
     "execution_count": 91,
     "metadata": {},
     "output_type": "execute_result"
    }
   ],
   "source": [
    "myindex = [\"Will\", \"Isaac\", \"Alex\"]\n",
    "randnum = np.random.randint (10,30,3)\n",
    "myseries2 = pd.Series (index = myindex, data = randnum)\n",
    "myseries2"
   ]
  }
 ],
 "metadata": {
  "kernelspec": {
   "display_name": "Python 3",
   "language": "python",
   "name": "python3"
  },
  "language_info": {
   "codemirror_mode": {
    "name": "ipython",
    "version": 3
   },
   "file_extension": ".py",
   "mimetype": "text/x-python",
   "name": "python",
   "nbconvert_exporter": "python",
   "pygments_lexer": "ipython3",
   "version": "3.13.6"
  }
 },
 "nbformat": 4,
 "nbformat_minor": 5
}
