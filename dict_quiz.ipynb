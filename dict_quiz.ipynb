{
 "cells": [
  {
   "cell_type": "code",
   "execution_count": null,
   "id": "aeb01953",
   "metadata": {},
   "outputs": [],
   "source": [
    "data= {\"a\":10,\n",
    "       \"b\":20, \n",
    "       \"c\":50,\n",
    "       \"d\":5,\n",
    "    }"
   ]
  },
  {
   "cell_type": "code",
   "execution_count": 1,
   "id": "70428b8a",
   "metadata": {},
   "outputs": [
    {
     "ename": "SyntaxError",
     "evalue": "invalid syntax (3753798247.py, line 9)",
     "output_type": "error",
     "traceback": [
      "  \u001b[36mCell\u001b[39m\u001b[36m \u001b[39m\u001b[32mIn[1]\u001b[39m\u001b[32m, line 9\u001b[39m\n\u001b[31m    \u001b[39m\u001b[31mfor i in range{0,4}:\u001b[39m\n                  ^\n\u001b[31mSyntaxError\u001b[39m\u001b[31m:\u001b[39m invalid syntax\n"
     ]
    }
   ],
   "source": [
    "#find key of largest number printing C\n",
    "data= {\"a\":10,\n",
    "       \"b\":20, \n",
    "       \"c\":50,\n",
    "       \"d\":5,\n",
    "    }\n",
    "wanted={}\n",
    "x=49\n",
    "for i in range{0,4}:\n",
    "    if x< given[i]:\n",
    "        pass\n",
    "    else:\n",
    "        temp=(given[i])\n",
    "        wanted.append(temp)\n",
    "print(wanted)"
   ]
  },
  {
   "cell_type": "code",
   "execution_count": 22,
   "id": "555205d5",
   "metadata": {},
   "outputs": [
    {
     "name": "stdout",
     "output_type": "stream",
     "text": [
      "50\n",
      "50\n",
      "50\n",
      "50\n"
     ]
    }
   ],
   "source": [
    "#find key of largest number printing C\n",
    "data= {\"a\":10,\n",
    "       \"b\":20, \n",
    "       \"c\":50,\n",
    "       \"d\":5,\n",
    "       }\n",
    "if i in (data):\n",
    "    if (data)< 49:\n",
    "        pass\n",
    "    else:\n",
    "        temp=(data)\n",
    "for x in data.items():\n",
    "    print(temp)"
   ]
  }
 ],
 "metadata": {
  "kernelspec": {
   "display_name": "Python 3",
   "language": "python",
   "name": "python3"
  },
  "language_info": {
   "codemirror_mode": {
    "name": "ipython",
    "version": 3
   },
   "file_extension": ".py",
   "mimetype": "text/x-python",
   "name": "python",
   "nbconvert_exporter": "python",
   "pygments_lexer": "ipython3",
   "version": "3.13.6"
  }
 },
 "nbformat": 4,
 "nbformat_minor": 5
}
