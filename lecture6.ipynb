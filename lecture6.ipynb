{
 "cells": [
  {
   "cell_type": "markdown",
   "id": "604b2bbf",
   "metadata": {},
   "source": [
    "# length of data "
   ]
  },
  {
   "cell_type": "code",
   "execution_count": 1,
   "id": "d67fc8ca",
   "metadata": {},
   "outputs": [
    {
     "name": "stdout",
     "output_type": "stream",
     "text": [
      "3\n"
     ]
    }
   ],
   "source": [
    "thislist= [3,4,5]\n",
    "print (len(thislist))"
   ]
  },
  {
   "cell_type": "code",
   "execution_count": 2,
   "id": "4fdcc7a1",
   "metadata": {},
   "outputs": [
    {
     "name": "stdout",
     "output_type": "stream",
     "text": [
      "2\n"
     ]
    }
   ],
   "source": [
    "thisdict={\"a\": 10, \"b\":11}\n",
    "print (len(thisdict))"
   ]
  },
  {
   "cell_type": "code",
   "execution_count": 3,
   "id": "7d64f844",
   "metadata": {},
   "outputs": [
    {
     "name": "stdout",
     "output_type": "stream",
     "text": [
      "7\n"
     ]
    }
   ],
   "source": [
    "name= \"William\"#char is the letters which are each a seperate character\n",
    "#the whole word is the string\n",
    "print(len(name))"
   ]
  },
  {
   "cell_type": "code",
   "execution_count": 4,
   "id": "cff207bc",
   "metadata": {},
   "outputs": [
    {
     "name": "stdout",
     "output_type": "stream",
     "text": [
      "2\n"
     ]
    }
   ],
   "source": [
    "age= \"14\"#the quotations completely change the perception for the computer. Without the \"\" it would be a integer and it cannot run as it\n",
    "#must be text\n",
    "print (len(age))"
   ]
  },
  {
   "cell_type": "markdown",
   "id": "f08378be",
   "metadata": {},
   "source": [
    "# While loop"
   ]
  },
  {
   "cell_type": "code",
   "execution_count": 7,
   "id": "ec5b7f8a",
   "metadata": {},
   "outputs": [
    {
     "name": "stdout",
     "output_type": "stream",
     "text": [
      "1\n",
      "2\n",
      "3\n",
      "4\n"
     ]
    }
   ],
   "source": [
    "i=1\n",
    "while i<5:\n",
    "    print(i)\n",
    "    i=i+1"
   ]
  },
  {
   "cell_type": "code",
   "execution_count": null,
   "id": "ebe102a4",
   "metadata": {},
   "outputs": [],
   "source": [
    "# if condition is true, then you execute the loop body"
   ]
  },
  {
   "cell_type": "code",
   "execution_count": 16,
   "id": "62a4eee7",
   "metadata": {},
   "outputs": [
    {
     "name": "stdout",
     "output_type": "stream",
     "text": [
      "55\n"
     ]
    }
   ],
   "source": [
    "i = 1\n",
    "sum = 0\n",
    "while i<=10:\n",
    "    sum=sum+i\n",
    "    i=i+1\n",
    "print (sum)"
   ]
  }
 ],
 "metadata": {
  "kernelspec": {
   "display_name": "Python 3",
   "language": "python",
   "name": "python3"
  },
  "language_info": {
   "codemirror_mode": {
    "name": "ipython",
    "version": 3
   },
   "file_extension": ".py",
   "mimetype": "text/x-python",
   "name": "python",
   "nbconvert_exporter": "python",
   "pygments_lexer": "ipython3",
   "version": "3.13.6"
  }
 },
 "nbformat": 4,
 "nbformat_minor": 5
}
