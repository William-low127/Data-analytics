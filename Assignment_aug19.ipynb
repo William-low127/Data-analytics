{
 "cells": [
  {
   "cell_type": "code",
   "execution_count": null,
   "id": "8d51b924",
   "metadata": {},
   "outputs": [],
   "source": [
    "#explain swap code to each other. \n",
    "#BMI\n",
    "# weight = kg\n",
    "#height = meters\n",
    "# ask chatgpt for links for data set for data anylizing job"
   ]
  },
  {
   "cell_type": "code",
   "execution_count": 7,
   "id": "f744ddbd",
   "metadata": {},
   "outputs": [
    {
     "name": "stdout",
     "output_type": "stream",
     "text": [
      "19.70108695652174\n"
     ]
    }
   ],
   "source": [
    "w = 66.7\n",
    "h = 1.84\n",
    "b = w / (h*h)\n",
    "print(b)"
   ]
  },
  {
   "cell_type": "code",
   "execution_count": null,
   "id": "253b6668",
   "metadata": {},
   "outputs": [],
   "source": [
    "w = \n",
    "h = \n",
    "b = w / (h*h)\n",
    "print(b)"
   ]
  }
 ],
 "metadata": {
  "kernelspec": {
   "display_name": "Python 3",
   "language": "python",
   "name": "python3"
  },
  "language_info": {
   "codemirror_mode": {
    "name": "ipython",
    "version": 3
   },
   "file_extension": ".py",
   "mimetype": "text/x-python",
   "name": "python",
   "nbconvert_exporter": "python",
   "pygments_lexer": "ipython3",
   "version": "3.13.6"
  }
 },
 "nbformat": 4,
 "nbformat_minor": 5
}
