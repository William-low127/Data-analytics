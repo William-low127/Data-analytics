{
 "cells": [
  {
   "cell_type": "code",
   "execution_count": 6,
   "id": "954546d2",
   "metadata": {},
   "outputs": [
    {
     "ename": "NameError",
     "evalue": "name 'temp' is not defined",
     "output_type": "error",
     "traceback": [
      "\u001b[31m---------------------------------------------------------------------------\u001b[39m",
      "\u001b[31mNameError\u001b[39m                                 Traceback (most recent call last)",
      "\u001b[36mCell\u001b[39m\u001b[36m \u001b[39m\u001b[32mIn[6]\u001b[39m\u001b[32m, line 12\u001b[39m\n\u001b[32m     10\u001b[39m         temp=(data)\n\u001b[32m     11\u001b[39m \u001b[38;5;28;01mfor\u001b[39;00m x \u001b[38;5;129;01min\u001b[39;00m data.items():\n\u001b[32m---> \u001b[39m\u001b[32m12\u001b[39m     \u001b[38;5;28mprint\u001b[39m(\u001b[43mtemp\u001b[49m)\n",
      "\u001b[31mNameError\u001b[39m: name 'temp' is not defined"
     ]
    }
   ],
   "source": [
    "data= {\"a\":10,\n",
    "       \"b\":20,\n",
    "       \"c\":50,\n",
    "       \"d\":5,\n",
    "       }\n",
    "if i in (data):\n",
    "    if (data)< 49:\n",
    "        pass\n",
    "    else:\n",
    "        temp=(data)\n",
    "for x in data.items():\n",
    "    print(temp)"
   ]
  },
  {
   "cell_type": "code",
   "execution_count": 9,
   "id": "fd86f412",
   "metadata": {},
   "outputs": [
    {
     "name": "stdout",
     "output_type": "stream",
     "text": [
      "50\n"
     ]
    }
   ],
   "source": [
    "data= {\"a\":10,\n",
    "       \"b\":20,\n",
    "       \"c\":50,\n",
    "       \"d\":5,\n",
    "       }\n",
    "\n",
    "max = -1\n",
    "\n",
    "for val in data.values():\n",
    "    if val > max:\n",
    "        max = val\n",
    "\n",
    "print(max)\n"
   ]
  }
 ],
 "metadata": {
  "kernelspec": {
   "display_name": "Python 3",
   "language": "python",
   "name": "python3"
  },
  "language_info": {
   "codemirror_mode": {
    "name": "ipython",
    "version": 3
   },
   "file_extension": ".py",
   "mimetype": "text/x-python",
   "name": "python",
   "nbconvert_exporter": "python",
   "pygments_lexer": "ipython3",
   "version": "3.13.6"
  }
 },
 "nbformat": 4,
 "nbformat_minor": 5
}
