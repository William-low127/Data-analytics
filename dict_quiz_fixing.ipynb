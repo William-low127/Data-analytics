{
 "cells": [
  {
   "cell_type": "code",
   "execution_count": 8,
   "id": "954546d2",
   "metadata": {},
   "outputs": [
    {
     "name": "stdout",
     "output_type": "stream",
     "text": [
      "{'a': 10, 'b': 20, 'c': 50, 'd': 5}\n",
      "{'a': 10, 'b': 20, 'c': 50, 'd': 5}\n",
      "{'a': 10, 'b': 20, 'c': 50, 'd': 5}\n",
      "{'a': 10, 'b': 20, 'c': 50, 'd': 5}\n"
     ]
    }
   ],
   "source": [
    "data= {\"a\":10,\n",
    "       \"b\":20,\n",
    "       \"c\":50,\n",
    "       \"d\":5,\n",
    "       }\n",
    "i=0\n",
    "if i in (data):\n",
    "    if (data)< 49:\n",
    "        pass\n",
    "    else:\n",
    "        temp=(data)\n",
    "for x in data.items():\n",
    "    print(data)"
   ]
  }
 ],
 "metadata": {
  "kernelspec": {
   "display_name": "Python 3",
   "language": "python",
   "name": "python3"
  },
  "language_info": {
   "codemirror_mode": {
    "name": "ipython",
    "version": 3
   },
   "file_extension": ".py",
   "mimetype": "text/x-python",
   "name": "python",
   "nbconvert_exporter": "python",
   "pygments_lexer": "ipython3",
   "version": "3.13.6"
  }
 },
 "nbformat": 4,
 "nbformat_minor": 5
}
