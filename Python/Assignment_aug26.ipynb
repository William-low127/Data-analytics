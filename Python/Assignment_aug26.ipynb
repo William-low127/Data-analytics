{
 "cells": [
  {
   "cell_type": "markdown",
   "id": "d9cf4a1a",
   "metadata": {},
   "source": [
    "# Fruits"
   ]
  },
  {
   "cell_type": "code",
   "execution_count": 10,
   "id": "e0e54577",
   "metadata": {},
   "outputs": [
    {
     "name": "stdout",
     "output_type": "stream",
     "text": [
      "['apple', 'orange', 'lychee', 'melon', 'lime']\n"
     ]
    }
   ],
   "source": [
    "fruits= ['apple', 'orange', 'lychee', 'melon', 'lime']\n",
    "print(fruits)"
   ]
  },
  {
   "cell_type": "code",
   "execution_count": 12,
   "id": "8ff71f1e",
   "metadata": {},
   "outputs": [
    {
     "name": "stdout",
     "output_type": "stream",
     "text": [
      "apple\n",
      "orange\n",
      "lychee\n",
      "melon\n",
      "lime\n"
     ]
    }
   ],
   "source": [
    "for i in fruits: \n",
    "    print(i)"
   ]
  },
  {
   "cell_type": "code",
   "execution_count": 7,
   "id": "09cab12f",
   "metadata": {},
   "outputs": [
    {
     "name": "stdout",
     "output_type": "stream",
     "text": [
      "the largest number is: 99\n"
     ]
    }
   ],
   "source": [
    "numbers= [12,45,78,23,56,99,34]\n",
    "largest = numbers[0]\n",
    "for i in numbers:\n",
    "    if i> largest:\n",
    "        largest=i\n",
    "print(\"the largest number is:\", largest)\n"
   ]
  },
  {
   "cell_type": "code",
   "execution_count": 59,
   "id": "67d19bef",
   "metadata": {},
   "outputs": [
    {
     "name": "stdout",
     "output_type": "stream",
     "text": [
      "the largest number is: 99\n"
     ]
    }
   ],
   "source": [
    "numbers= [12,45,78,23,56,99,34]\n",
    "x= 12\n",
    "for i in range(1,7):\n",
    "    # print(numbers[i])\n",
    "    if x>(numbers[i]):\n",
    "        pass\n",
    "    else:\n",
    "        x=(numbers[i])\n",
    "print(\"the largest number is:\", x)\n"
   ]
  },
  {
   "cell_type": "code",
   "execution_count": 5,
   "id": "65afecf9",
   "metadata": {},
   "outputs": [
    {
     "name": "stdout",
     "output_type": "stream",
     "text": [
      "5 x 1 = 5\n",
      "5 x 2 = 10\n",
      "5 x 3 = 15\n",
      "5 x 4 = 20\n",
      "5 x 5 = 25\n",
      "5 x 6 = 30\n",
      "5 x 7 = 35\n",
      "5 x 8 = 40\n",
      "5 x 9 = 45\n",
      "5 x 10 = 50\n"
     ]
    }
   ],
   "source": [
    "for i in range (1,11):\n",
    "        print (\"5 x\", i, \"=\", 5 *i)"
   ]
  }
 ],
 "metadata": {
  "kernelspec": {
   "display_name": "Python 3",
   "language": "python",
   "name": "python3"
  },
  "language_info": {
   "codemirror_mode": {
    "name": "ipython",
    "version": 3
   },
   "file_extension": ".py",
   "mimetype": "text/x-python",
   "name": "python",
   "nbconvert_exporter": "python",
   "pygments_lexer": "ipython3",
   "version": "3.13.6"
  }
 },
 "nbformat": 4,
 "nbformat_minor": 5
}
