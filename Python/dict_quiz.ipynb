{
 "cells": [
  {
   "cell_type": "code",
   "execution_count": 20,
   "id": "aeb01953",
   "metadata": {},
   "outputs": [],
   "source": [
    "data= {\"a\":10,\n",
    "       \"b\":20, \n",
    "       \"c\":50,\n",
    "       \"d\":5,\n",
    "    }"
   ]
  },
  {
   "cell_type": "code",
   "execution_count": 21,
   "id": "70428b8a",
   "metadata": {},
   "outputs": [
    {
     "ename": "SyntaxError",
     "evalue": "invalid syntax (3753798247.py, line 9)",
     "output_type": "error",
     "traceback": [
      "  \u001b[36mCell\u001b[39m\u001b[36m \u001b[39m\u001b[32mIn[21]\u001b[39m\u001b[32m, line 9\u001b[39m\n\u001b[31m    \u001b[39m\u001b[31mfor i in range{0,4}:\u001b[39m\n                  ^\n\u001b[31mSyntaxError\u001b[39m\u001b[31m:\u001b[39m invalid syntax\n"
     ]
    }
   ],
   "source": [
    "#find key of largest number printing C\n",
    "data= {\"a\":10,\n",
    "       \"b\":20, \n",
    "       \"c\":50,\n",
    "       \"d\":5,\n",
    "    }\n",
    "wanted={}\n",
    "x=49\n",
    "for i in range{0,4}:\n",
    "    if x< given[i]:\n",
    "        pass\n",
    "    else:\n",
    "        temp=(given[i])\n",
    "        wanted.append(temp)\n",
    "print(wanted)"
   ]
  },
  {
   "cell_type": "code",
   "execution_count": 24,
   "id": "555205d5",
   "metadata": {},
   "outputs": [
    {
     "ename": "NameError",
     "evalue": "name 'temp' is not defined",
     "output_type": "error",
     "traceback": [
      "\u001b[31m---------------------------------------------------------------------------\u001b[39m",
      "\u001b[31mNameError\u001b[39m                                 Traceback (most recent call last)",
      "\u001b[36mCell\u001b[39m\u001b[36m \u001b[39m\u001b[32mIn[24]\u001b[39m\u001b[32m, line 13\u001b[39m\n\u001b[32m     11\u001b[39m         temp=(data)\n\u001b[32m     12\u001b[39m \u001b[38;5;28;01mfor\u001b[39;00m x \u001b[38;5;129;01min\u001b[39;00m data.items():\n\u001b[32m---> \u001b[39m\u001b[32m13\u001b[39m     \u001b[38;5;28mprint\u001b[39m(\u001b[43mtemp\u001b[49m)\n",
      "\u001b[31mNameError\u001b[39m: name 'temp' is not defined"
     ]
    }
   ],
   "source": [
    "#find key of largest number printing C\n",
    "data= {\"a\":10,\n",
    "       \"b\":20, \n",
    "       \"c\":50,\n",
    "       \"d\":5,\n",
    "       }\n",
    "if i in (data):\n",
    "    if (data)< 49:\n",
    "        pass\n",
    "    else:\n",
    "        temp=(data)\n",
    "for x in data.items():\n",
    "    print(temp)"
   ]
  },
  {
   "cell_type": "code",
   "execution_count": null,
   "id": "b42da319",
   "metadata": {},
   "outputs": [
    {
     "ename": "NameError",
     "evalue": "name 'i' is not defined",
     "output_type": "error",
     "traceback": [
      "\u001b[31m---------------------------------------------------------------------------\u001b[39m",
      "\u001b[31mNameError\u001b[39m                                 Traceback (most recent call last)",
      "\u001b[36mCell\u001b[39m\u001b[36m \u001b[39m\u001b[32mIn[3]\u001b[39m\u001b[32m, line 8\u001b[39m\n\u001b[32m      1\u001b[39m \u001b[38;5;66;03m#find the key in the value\u001b[39;00m\n\u001b[32m      3\u001b[39m data= {\u001b[33m\"\u001b[39m\u001b[33ma\u001b[39m\u001b[33m\"\u001b[39m:\u001b[32m10\u001b[39m, \u001b[38;5;66;03m#define each data line\u001b[39;00m\n\u001b[32m      4\u001b[39m        \u001b[33m\"\u001b[39m\u001b[33mb\u001b[39m\u001b[33m\"\u001b[39m:\u001b[32m20\u001b[39m,\n\u001b[32m      5\u001b[39m        \u001b[33m\"\u001b[39m\u001b[33mc\u001b[39m\u001b[33m\"\u001b[39m:\u001b[32m50\u001b[39m,\n\u001b[32m      6\u001b[39m        \u001b[33m\"\u001b[39m\u001b[33md\u001b[39m\u001b[33m\"\u001b[39m:\u001b[32m5\u001b[39m,\n\u001b[32m      7\u001b[39m         }\n\u001b[32m----> \u001b[39m\u001b[32m8\u001b[39m \u001b[38;5;28;01mif\u001b[39;00m \u001b[43mi\u001b[49m \u001b[38;5;129;01min\u001b[39;00m (data):\n\u001b[32m      9\u001b[39m     \u001b[38;5;28;01mif\u001b[39;00m (data)< \u001b[32m49\u001b[39m:\n\u001b[32m     10\u001b[39m         \u001b[38;5;28;01mpass\u001b[39;00m\n",
      "\u001b[31mNameError\u001b[39m: name 'i' is not defined"
     ]
    }
   ],
   "source": [
    "data= {\"a\":10, \n",
    "       \"b\":20,\n",
    "       \"c\":50,\n",
    "       \"d\":5,\n",
    "        }\n",
    "if i in (data):\n",
    "    if (data)< 49:\n",
    "        pass\n",
    "    else:\n",
    "        temp=(data)\n",
    "for x in data.items():\n",
    "    print(temp)"
   ]
  }
 ],
 "metadata": {
  "kernelspec": {
   "display_name": "Python 3",
   "language": "python",
   "name": "python3"
  },
  "language_info": {
   "codemirror_mode": {
    "name": "ipython",
    "version": 3
   },
   "file_extension": ".py",
   "mimetype": "text/x-python",
   "name": "python",
   "nbconvert_exporter": "python",
   "pygments_lexer": "ipython3",
   "version": "3.13.6"
  }
 },
 "nbformat": 4,
 "nbformat_minor": 5
}
